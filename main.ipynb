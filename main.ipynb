{
 "cells": [
  {
   "cell_type": "code",
   "execution_count": 1,
   "id": "a252b495",
   "metadata": {},
   "outputs": [],
   "source": [
    "import re"
   ]
  },
  {
   "cell_type": "code",
   "execution_count": 2,
   "id": "facdf72e",
   "metadata": {},
   "outputs": [],
   "source": [
    "class parser:\n",
    "    def __init__(self, text):\n",
    "        self.text = text\n",
    "        self.sentences = self.__split_text()\n",
    "        self.premises = []\n",
    "        self.conclusion = ''\n",
    "        self.patterns = {\n",
    "            'implication': r\"^if (.*), (then (.*)|(.*))\",\n",
    "            'junction': r\"^(.*) (and|or) (.*)\",\n",
    "            'conclusion': r\"therefore (.*).\"\n",
    "        }\n",
    "        \n",
    "    def __repr__(self):\n",
    "        return '\\033[1mText:\\033[0m {} \\n\\n\\033[1mPremises:\\033[0m {} \\n\\n\\033[1mConclusion:\\033[0m {}'.format(self.text, self.premises, self.conclusion)\n",
    "    \n",
    "    def __str__(self):\n",
    "        return '\\033[1mText:\\033[0m {} \\n\\n\\033[1mPremises:\\033[0m {} \\n\\n\\033[1mConclusion:\\033[0m {}'.format(self.text, self.premises, self.conclusion)\n",
    "    \n",
    "    def __split_text(self):\n",
    "        return self.text.lower().split('. ')\n",
    "\n",
    "    def __check_implication(self, sentence):\n",
    "        matches = re.match(self.patterns['implication'], sentence)\n",
    "\n",
    "        if not matches:\n",
    "            return False\n",
    "\n",
    "        p = matches.group(1)\n",
    "        q = matches.group(3) if matches.group(3) else matches.group(2)\n",
    "\n",
    "        self.premises.append({'p1': p, 'p2': q, 'type': 'implication', 'value': True})\n",
    "\n",
    "        return True\n",
    "\n",
    "    def __check_junction(self, sentence):\n",
    "        matches = re.match(self.patterns['junction'], sentence)\n",
    "\n",
    "        if not matches:\n",
    "            return False\n",
    "\n",
    "        p = matches.group(1)\n",
    "        q = matches.group(3)\n",
    "        \n",
    "        if matches.group(2) == 'and':\n",
    "            self.premises.append({'p1': p, 'p2': q, 'type': 'conjunction', 'value': True})\n",
    "        else:\n",
    "            self.premises.append({'p1': p, 'p2': q, 'type': 'disjunction', 'value': True})\n",
    "\n",
    "        return True\n",
    "\n",
    "    def __check_conclusion(self, sentence):\n",
    "        matches = re.match(self.patterns['conclusion'], sentence)\n",
    "\n",
    "        if not matches:\n",
    "            return False\n",
    "\n",
    "        p = matches.group(1)\n",
    "\n",
    "        return p\n",
    "\n",
    "    def parse(self):\n",
    "        for sentence in self.sentences:\n",
    "            temp = self.__check_implication(sentence)\n",
    "            if not temp:\n",
    "                temp = self.__check_junction(sentence)\n",
    "                if not temp:\n",
    "                    self.conclusion = self.__check_conclusion(sentence)\n",
    "        result = [x['value'] for x in self.premises]\n",
    "        if all(result):\n",
    "            print(r\"As long as this statment '{}' is true\".format('\\033[1m' + \" and \".join(self.sentences[:-1]) + '\\033[0m'), end='')\n",
    "            print(r\" Then '{}'.\".format('\\033[1m' + self.conclusion + '\\033[0m'))\n",
    "        return\n",
    "    def simplification(self):\n",
    "        for premise in self.premises:\n",
    "            try:\n",
    "                if premise['type'] == 'conjunction':\n",
    "                    self.premises.append({'p1': premise['p1'], 'type': 'simplification', 'value': True})\n",
    "                    self.premises.append({'p1': premise['p2'], 'type': 'simplification', 'value': True})\n",
    "            except:\n",
    "                pass\n",
    "    def modus_ponens(self):\n",
    "        for premise in self.premises:\n",
    "            try:\n",
    "                if premise['type'] == 'implication':\n",
    "                    for prem in self.premises:\n",
    "                        if prem['type'] == 'simplification':\n",
    "                            if prem['p1'] == premise['p1']:\n",
    "                                self.premises.append({'p1': premise['p2'], 'type': 'modus ponens', 'value': True})\n",
    "            except:\n",
    "                pass\n",
    "    def describe(self):\n",
    "        print('\\033[1mText:\\033[0m {} \\n'.format(self.text))\n",
    "        print('*'*50)\n",
    "        print('\\033[1mPremises:\\033[0m')\n",
    "        for i, premise in enumerate(self.premises):\n",
    "            print('{}- {}'.format(i+1, premise))\n",
    "            if premise['type'] == 'implication':\n",
    "                print('\\033[1mp1 -> p2\\033[0m')\n",
    "            elif premise['type'] == 'conjunction':\n",
    "                print('\\033[1mp1 ^ p2\\033[0m')\n",
    "            elif premise['type'] == 'disjuntion':\n",
    "                print('\\033[1mp1 ∨ p2\\033[0m')\n",
    "            else:\n",
    "                print('\\033[1mp1\\033[0m')\n",
    "            print('*'*50)\n",
    "        print('\\n\\033[1mConclusion:\\033[0m {}'.format(self.conclusion))\n",
    "        if len(self.premises) == 7:\n",
    "            print('Using premises\\n \\033[1m6- {} and\\n 7- {} \\033[0m\\n using \\033[1mdisjunctive syllogism\\033[0m.\\n Thus, {}'.format(self.premises[6]['p1'], self.premises[5]['p1'], self.conclusion))\n"
   ]
  },
  {
   "cell_type": "code",
   "execution_count": 3,
   "id": "59c6fddd",
   "metadata": {},
   "outputs": [
    {
     "name": "stdout",
     "output_type": "stream",
     "text": [
      "As long as this statment '\u001b[1mif today is tuesday, i have a test in english or science and if my english professor is absent, then i will not have a test in english and today is tuesday and my english professor is absent\u001b[0m' is true Then '\u001b[1mi have a test in science\u001b[0m'.\n"
     ]
    }
   ],
   "source": [
    "text = \"If today is Tuesday, I have a test in English or Science. If my English Professor is absent, then \\\n",
    "I will not have a test in English. Today is Tuesday and my English Professor is absent. \\\n",
    "Therefore I have a test in Science.\"\n",
    "\n",
    "parser = parser(text)\n",
    "\n",
    "parser.parse()"
   ]
  },
  {
   "cell_type": "code",
   "execution_count": 4,
   "id": "4bbb5c4d",
   "metadata": {},
   "outputs": [
    {
     "name": "stdout",
     "output_type": "stream",
     "text": [
      "\u001b[1mText:\u001b[0m If today is Tuesday, I have a test in English or Science. If my English Professor is absent, then I will not have a test in English. Today is Tuesday and my English Professor is absent. Therefore I have a test in Science. \n",
      "\n",
      "**************************************************\n",
      "\u001b[1mPremises:\u001b[0m\n",
      "1- {'p1': 'today is tuesday', 'p2': 'i have a test in english or science', 'type': 'implication', 'value': True}\n",
      "\u001b[1mp1 -> p2\u001b[0m\n",
      "**************************************************\n",
      "2- {'p1': 'my english professor is absent', 'p2': 'i will not have a test in english', 'type': 'implication', 'value': True}\n",
      "\u001b[1mp1 -> p2\u001b[0m\n",
      "**************************************************\n",
      "3- {'p1': 'today is tuesday', 'p2': 'my english professor is absent', 'type': 'conjunction', 'value': True}\n",
      "\u001b[1mp1 ^ p2\u001b[0m\n",
      "**************************************************\n",
      "\n",
      "\u001b[1mConclusion:\u001b[0m i have a test in science\n"
     ]
    }
   ],
   "source": [
    "parser.describe()"
   ]
  },
  {
   "cell_type": "code",
   "execution_count": 5,
   "id": "41ec44c9",
   "metadata": {},
   "outputs": [],
   "source": [
    "parser.simplification()"
   ]
  },
  {
   "cell_type": "code",
   "execution_count": 6,
   "id": "e43fd578",
   "metadata": {},
   "outputs": [
    {
     "name": "stdout",
     "output_type": "stream",
     "text": [
      "\u001b[1mText:\u001b[0m If today is Tuesday, I have a test in English or Science. If my English Professor is absent, then I will not have a test in English. Today is Tuesday and my English Professor is absent. Therefore I have a test in Science. \n",
      "\n",
      "**************************************************\n",
      "\u001b[1mPremises:\u001b[0m\n",
      "1- {'p1': 'today is tuesday', 'p2': 'i have a test in english or science', 'type': 'implication', 'value': True}\n",
      "\u001b[1mp1 -> p2\u001b[0m\n",
      "**************************************************\n",
      "2- {'p1': 'my english professor is absent', 'p2': 'i will not have a test in english', 'type': 'implication', 'value': True}\n",
      "\u001b[1mp1 -> p2\u001b[0m\n",
      "**************************************************\n",
      "3- {'p1': 'today is tuesday', 'p2': 'my english professor is absent', 'type': 'conjunction', 'value': True}\n",
      "\u001b[1mp1 ^ p2\u001b[0m\n",
      "**************************************************\n",
      "4- {'p1': 'today is tuesday', 'type': 'simplification', 'value': True}\n",
      "\u001b[1mp1\u001b[0m\n",
      "**************************************************\n",
      "5- {'p1': 'my english professor is absent', 'type': 'simplification', 'value': True}\n",
      "\u001b[1mp1\u001b[0m\n",
      "**************************************************\n",
      "\n",
      "\u001b[1mConclusion:\u001b[0m i have a test in science\n"
     ]
    }
   ],
   "source": [
    "parser.describe()"
   ]
  },
  {
   "cell_type": "code",
   "execution_count": 7,
   "id": "3b3c34c4",
   "metadata": {},
   "outputs": [],
   "source": [
    "parser.modus_ponens()"
   ]
  },
  {
   "cell_type": "code",
   "execution_count": 8,
   "id": "aa9f099a",
   "metadata": {},
   "outputs": [
    {
     "name": "stdout",
     "output_type": "stream",
     "text": [
      "\u001b[1mText:\u001b[0m If today is Tuesday, I have a test in English or Science. If my English Professor is absent, then I will not have a test in English. Today is Tuesday and my English Professor is absent. Therefore I have a test in Science. \n",
      "\n",
      "**************************************************\n",
      "\u001b[1mPremises:\u001b[0m\n",
      "1- {'p1': 'today is tuesday', 'p2': 'i have a test in english or science', 'type': 'implication', 'value': True}\n",
      "\u001b[1mp1 -> p2\u001b[0m\n",
      "**************************************************\n",
      "2- {'p1': 'my english professor is absent', 'p2': 'i will not have a test in english', 'type': 'implication', 'value': True}\n",
      "\u001b[1mp1 -> p2\u001b[0m\n",
      "**************************************************\n",
      "3- {'p1': 'today is tuesday', 'p2': 'my english professor is absent', 'type': 'conjunction', 'value': True}\n",
      "\u001b[1mp1 ^ p2\u001b[0m\n",
      "**************************************************\n",
      "4- {'p1': 'today is tuesday', 'type': 'simplification', 'value': True}\n",
      "\u001b[1mp1\u001b[0m\n",
      "**************************************************\n",
      "5- {'p1': 'my english professor is absent', 'type': 'simplification', 'value': True}\n",
      "\u001b[1mp1\u001b[0m\n",
      "**************************************************\n",
      "6- {'p1': 'i have a test in english or science', 'type': 'modus ponens', 'value': True}\n",
      "\u001b[1mp1\u001b[0m\n",
      "**************************************************\n",
      "7- {'p1': 'i will not have a test in english', 'type': 'modus ponens', 'value': True}\n",
      "\u001b[1mp1\u001b[0m\n",
      "**************************************************\n",
      "\n",
      "\u001b[1mConclusion:\u001b[0m i have a test in science\n",
      "Using premises\n",
      " \u001b[1m6- i will not have a test in english and\n",
      " 7- i have a test in english or science \u001b[0m\n",
      " using \u001b[1mdisjunctive syllogism\u001b[0m.\n",
      " Thus, i have a test in science\n"
     ]
    }
   ],
   "source": [
    "parser.describe()"
   ]
  },
  {
   "cell_type": "code",
   "execution_count": null,
   "id": "68e617b1",
   "metadata": {},
   "outputs": [],
   "source": []
  }
 ],
 "metadata": {
  "kernelspec": {
   "display_name": "Python 3 (ipykernel)",
   "language": "python",
   "name": "python3"
  },
  "language_info": {
   "codemirror_mode": {
    "name": "ipython",
    "version": 3
   },
   "file_extension": ".py",
   "mimetype": "text/x-python",
   "name": "python",
   "nbconvert_exporter": "python",
   "pygments_lexer": "ipython3",
   "version": "3.10.9"
  }
 },
 "nbformat": 4,
 "nbformat_minor": 5
}
